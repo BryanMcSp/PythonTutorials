{
 "cells": [
  {
   "cell_type": "markdown",
   "id": "c20c36c7",
   "metadata": {},
   "source": [
    "# Time and Date Series in Python I"
   ]
  },
  {
   "cell_type": "markdown",
   "id": "480bb1a7",
   "metadata": {},
   "source": [
    "This tutorial will provide an overview of some of the functionality Python, NumPy and Pandas offer to manipulate time series, and date, time objects. The tutorial is meant to be an introduction and it will not be exhaustive in the treatment of the exstensive functionality offered by the python libraries. "
   ]
  },
  {
   "cell_type": "markdown",
   "id": "395b8b1c",
   "metadata": {},
   "source": [
    "#### Learning goals\n",
    "\n",
    "  - `Python` - Date and Time objects\n",
    "  - `NumPy` - Date and Time objects\n",
    "  - `Pandas` - Date and Time objects\n",
    "  \n",
    "#### Prerequisites\n",
    "  - Python and NumPy\n",
    "  - Pandas, DataFrames and Series\n",
    "  \n",
    " ---"
   ]
  },
  {
   "cell_type": "markdown",
   "id": "04c113b9",
   "metadata": {},
   "source": [
    "## Python time and dates"
   ]
  },
  {
   "cell_type": "markdown",
   "id": "087952ac",
   "metadata": {},
   "source": [
    "Python offers a series of core and additional functions dealing with time, time zones, calendars, etc. \n",
    "\n",
    "These modules come standard with Python3. The modules mostly provide access to the Linux/Unix (or Windows) OS time-oriented functionality.\n",
    "\n",
    "| Module Name | Description | Usage |\n",
    "| --- | --- | --- |\n",
    "| [Time](https://docs.python.org/3/library/time.html#module-time) | This module provides various time-related functions. | `import time` |\n",
    "| [datetime](https://docs.python.org/3/library/datetime.html#module-datetime) | This module supplies classes for manipulating dates and times. | `import datetime` |\n",
    "| [Calendar](https://docs.python.org/3/library/calendar.html#module-calendar) | This module allows you to output calendars like the Unix cal program, and provides additional useful functions related to the calendar. | `import calendar` |\n",
    "|[Zoneinfo](https://docs.python.org/3/library/zoneinfo.html#module-zoneinfo) | A time zone implementation interfacing with the system’s time zone data (if available e.g. Unix/Linux; see also [PEP 615](https://peps.python.org/pep-0615/)). | ` import zoneinfo` |\n",
    "\n",
    "Although we will cover some of the functionality in these python modules, an exhustive coverage of the functionality of these python modules is beyond the scope of the current tutorial. That said below the list of modules pertaining with time and date operations and data.\n",
    "\n",
    "---"
   ]
  },
  {
   "cell_type": "markdown",
   "id": "c06c3140",
   "metadata": {},
   "source": [
    "### Python Core Time Objects"
   ]
  },
  {
   "cell_type": "markdown",
   "id": "1bec73b6",
   "metadata": {},
   "source": [
    "The core functionality of time events in Python can be accessed using `time` and `datetime`. \n",
    "\n",
    "For example, we can import `datetime` and access my date of birth we could easily access it (if you were to know the correct one) use syntax as follows:"
   ]
  },
  {
   "cell_type": "code",
   "execution_count": 1,
   "id": "133db23c",
   "metadata": {},
   "outputs": [
    {
     "name": "stdout",
     "output_type": "stream",
     "text": [
      "1985-11-15 11:36:55\n"
     ]
    }
   ],
   "source": [
    "from datetime import datetime\n",
    "\n",
    "my_birthdate = datetime(year=1985, \n",
    "              month=11, \n",
    "              day=15, \n",
    "              hour=11, \n",
    "              minute=36, \n",
    "              second=55)\n",
    "print(my_birthdate)"
   ]
  },
  {
   "cell_type": "markdown",
   "id": "7b62ddba",
   "metadata": {},
   "source": [
    "As you can see above, `datetime` allows addressing years, months, days, etc. just like properties of objects. The output variables are well formatted strings. \n",
    "\n",
    "The months, days, hours and minutes are formatted in ways that we are generally used to, the 'look good'. The formatting used by `datetime` is called [ISO 8601 format](https://en.wikipedia.org/wiki/ISO_8601) (it follows this syntax: `YYYY-MM-DDTHH:MM:SS. mmmmmm`).\n",
    "\n",
    "---"
   ]
  },
  {
   "cell_type": "markdown",
   "id": "a52e1b58",
   "metadata": {},
   "source": [
    "**`time` is also part of python's core functionality.**\n",
    "\n",
    "It provides a more fexible, yet more complex, less object-oriented and less data-science friendly interface. "
   ]
  },
  {
   "cell_type": "markdown",
   "id": "66abac51",
   "metadata": {},
   "source": [
    "For example, if we wanted to get a date and time (say the current time) using `time`, we would need to first import two modules, `gmtime` to get the time and `strftime` to format the time."
   ]
  },
  {
   "cell_type": "markdown",
   "id": "bc4480d8",
   "metadata": {},
   "source": [
    "`gmtime` would allow extracting the information about the current time."
   ]
  },
  {
   "cell_type": "code",
   "execution_count": 2,
   "id": "53d5c3b4",
   "metadata": {},
   "outputs": [
    {
     "data": {
      "text/plain": [
       "time.struct_time(tm_year=2022, tm_mon=4, tm_mday=28, tm_hour=14, tm_min=36, tm_sec=48, tm_wday=3, tm_yday=118, tm_isdst=0)"
      ]
     },
     "execution_count": 2,
     "metadata": {},
     "output_type": "execute_result"
    }
   ],
   "source": [
    "from time import gmtime, strftime\n",
    "gmtime()"
   ]
  },
  {
   "cell_type": "markdown",
   "id": "3a69d54d",
   "metadata": {},
   "source": [
    "As you can appreciate, the output is not nicely formatted. At least not as nicely formatted using the ISO 8601 standard as seen above in the output of `datetime`."
   ]
  },
  {
   "cell_type": "markdown",
   "id": "14ff44fa",
   "metadata": {},
   "source": [
    "We can format the output with some additional work, using `strftime()`. For example, "
   ]
  },
  {
   "cell_type": "code",
   "execution_count": 3,
   "id": "4de09163",
   "metadata": {},
   "outputs": [
    {
     "data": {
      "text/plain": [
       "'Thu, 28 Apr 2022 14:37:25 +0000'"
      ]
     },
     "execution_count": 3,
     "metadata": {},
     "output_type": "execute_result"
    }
   ],
   "source": [
    "strftime(\"%a, %d %b %Y %H:%M:%S +0000\", gmtime())"
   ]
  },
  {
   "cell_type": "markdown",
   "id": "f98d3c6d",
   "metadata": {},
   "source": [
    "The type of the time value sequence returned by `gmtime()`  It is an object with a named tuple interface with following values that can be accessed by index and by attribute name. The following values are present:\n",
    "\n",
    "| Index | Attribute | Values |\n",
    "| --- | --- | --- | \n",
    "| 0 | tm_year | (for example, 1993) |\n",
    "| 1 | tm_mon | range [1, 12] |\n",
    "| 2 | tm_mday | range [1, 31] |\n",
    "| 3 | tm_hour | range [0, 23] |\n",
    "| 4 | tm_min | range [0, 59] |\n",
    "| 5 | tm_sec | range [0, 61]; see (2) in strftime() description |\n",
    "| 6 | tm_wday | range [0, 6], Monday is 0 |\n",
    "| 7 | tm_yday | range [1, 366] |\n",
    "| 8 | tm_isdst | 0, 1 or -1; see below |\n",
    "| N/A | tm_zone | abbreviation of timezone name |\n",
    "| N/A | tm_gmtoff | offset east of UTC in seconds| \n",
    "\n",
    "Try, returning the values into a variable and access them as previously learned (hint, `vals.<val_name>`):"
   ]
  },
  {
   "cell_type": "code",
   "execution_count": 4,
   "id": "362bb6f3",
   "metadata": {},
   "outputs": [
    {
     "data": {
      "text/plain": [
       "14"
      ]
     },
     "execution_count": 4,
     "metadata": {},
     "output_type": "execute_result"
    }
   ],
   "source": [
    "vals = gmtime()\n",
    "\n",
    "vals.tm_hour"
   ]
  },
  {
   "cell_type": "markdown",
   "id": "298d1281",
   "metadata": {},
   "source": [
    "#### Question:\n",
    "\n",
    "Is the information extracted for you by `gmtime()` correct for your time zone? Why?\n",
    "\n",
    "`gmtime()` returns time for `Greenwich Mean Time (GMT)` that is a standard timezone in the UK. Given that Austin, TX is currently in CDT. We could return the current hour in Austin by adding the 5 hours different. \n",
    "\n",
    "For example:"
   ]
  },
  {
   "cell_type": "code",
   "execution_count": 8,
   "id": "024ddc74",
   "metadata": {},
   "outputs": [
    {
     "name": "stdout",
     "output_type": "stream",
     "text": [
      "Time in Greenwhich, UK:  14\n",
      "Time in Austin, TX:  9\n"
     ]
    }
   ],
   "source": [
    "vals = gmtime()\n",
    "\n",
    "theHourInGreenwichUK = vals.tm_hour\n",
    "print('Time in Greenwhich, UK: ', theHourInGreenwichUK)\n",
    "\n",
    "theHourInAustinTX = theHourInGreenwichUK - 5     #If after 12 pm, you have to add 12 to the Austin time\n",
    "print('Time in Austin, TX: ', theHourInAustinTX)"
   ]
  },
  {
   "cell_type": "markdown",
   "id": "236f6e22",
   "metadata": {},
   "source": [
    "So, informastion can be extracted, yet, it takes some work and knowledge to get it out. It would be convenient to have easier ways to manipulate dates more explicitely."
   ]
  },
  {
   "cell_type": "markdown",
   "id": "72b28315",
   "metadata": {},
   "source": [
    "#### A note about Naive and Aware objects.\n",
    "\n",
    "Objects pertaining time and dates depend on geographical position and time zones. Time zones could be day-light savings, e.g., CDT for Austin, TX or standard, e.g., CST for Austin, TX. \n",
    "\n",
    "Two types of objects exist in python:\n",
    "  - Aware Objects - Objects are called `aware` when they can locate themselves relative to other aware objects. Aware objects represent a specific moment in time that is not open to interpretation.\n",
    "\n",
    "  - Naive Objects - A naive objects do not contain enough information to unambiguously locate themselves relative to other date/time objects. Whether a naive object represents Coordinated Universal Time (UTC), local time, or time in some other timezone is purely up to the program, just like it is up to the program whether a particular number represents metres, miles, or mass. \n",
    "  \n",
    "  \n",
    "The outputs on `datetime` are `time` are naive by default. Optional calls to `timezone` can be made to make the objects aware. See [here](https://docs.python.org/3/library/datetime.html) for more information about Naive and Aware time objects."
   ]
  },
  {
   "cell_type": "markdown",
   "id": "28c21705",
   "metadata": {},
   "source": [
    "The functionality of `datetime` and `time` is exstensive as they allow advance and flexible manipulation of events, timing and calendars. The goal of this tutorial is to get you started and provide an overview of methods available to access time and date information. \n",
    "\n",
    "One limitation of of the core function for time manipulation in python is the inability to handle large arrays of dates and times. This is an important feature, especially for data science applications where often times arrays can reach a large size. \n",
    "\n",
    "This issue is similar to the issue we have encountered before, where the standard lists in Python are limited in their ability to support advanced numerical operations. \n",
    "\n",
    "---"
   ]
  },
  {
   "cell_type": "markdown",
   "id": "c4eadd1a",
   "metadata": {},
   "source": [
    "## NumPy objects for date and time"
   ]
  },
  {
   "cell_type": "markdown",
   "id": "d2b3c6fa",
   "metadata": {},
   "source": [
    "As we learned in previous tutorials, NumPy addressed the needs of the community to handle large datasets by providing the ability to store large variables into computable objects. \n",
    "\n",
    "Also for time and date functionality, NumPy added to the set of native date and time python functions, a set of additional functions to handle large objects, manipulate and perform numerical operations. \n",
    "\n",
    "\n",
    "The functions NumPy added build on top of two NumPy objects:\n",
    "  \n",
    "  - `datetime64` - \n",
    "  - `timedelta64`\n",
    "  \n",
    "`datetime64` and `timedelta64` encodes dates as 64-bit integers, array operator. This allows the data stored as a date to be much larger than the basic python date and time variables and allows them to be computable.\n",
    "\n",
    "---"
   ]
  },
  {
   "cell_type": "markdown",
   "id": "80a94ea2",
   "metadata": {},
   "source": [
    "A NumPy `datetime64` variable can be usig very specific formats for example:"
   ]
  },
  {
   "cell_type": "code",
   "execution_count": 11,
   "id": "8cca92d4",
   "metadata": {},
   "outputs": [
    {
     "name": "stdout",
     "output_type": "stream",
     "text": [
      "ISO format < 1985-11-15 >\n"
     ]
    },
    {
     "data": {
      "text/plain": [
       "array('1985-11-15', dtype='datetime64[D]')"
      ]
     },
     "execution_count": 11,
     "metadata": {},
     "output_type": "execute_result"
    }
   ],
   "source": [
    "import numpy as np\n",
    "date = np.array('1985-11-15', dtype=np.datetime64)\n",
    "print('ISO format <', date, '>')\n",
    "\n",
    "date"
   ]
  },
  {
   "cell_type": "markdown",
   "id": "d3be0a18",
   "metadata": {},
   "source": [
    "Note that the NumPy arrays requires a very specific format as input: 'YYY-MM-DD'. This is the most basic way to create datetimes array using an ISO 8601 date or datetime format."
   ]
  },
  {
   "cell_type": "markdown",
   "id": "f8a4af1f",
   "metadata": {},
   "source": [
    "This new object is though fundamentally different than any of the previously encountered data, time objects in python. For example, we can perform direct computations using this object (datetime in NumPy works with most NumPy operations such as `arange`). \n",
    "\n",
    "Hereafter we add numbers in the range between [0-11] to the days in the original date and replicate the entry in the array in a single operation:"
   ]
  },
  {
   "cell_type": "code",
   "execution_count": 10,
   "id": "204f5853",
   "metadata": {},
   "outputs": [
    {
     "data": {
      "text/plain": [
       "array(['1985-11-15', '1985-11-16', '1985-11-17', '1985-11-18',\n",
       "       '1985-11-19', '1985-11-20', '1985-11-21', '1985-11-22',\n",
       "       '1985-11-23', '1985-11-24', '1985-11-25', '1985-11-26'],\n",
       "      dtype='datetime64[D]')"
      ]
     },
     "execution_count": 10,
     "metadata": {},
     "output_type": "execute_result"
    }
   ],
   "source": [
    "date + np.arange(12)"
   ]
  },
  {
   "cell_type": "markdown",
   "id": "e7e2aa38",
   "metadata": {},
   "source": [
    "A range of days can be specified at definition to when defining the array:"
   ]
  },
  {
   "cell_type": "code",
   "execution_count": 23,
   "id": "7055dd5d",
   "metadata": {},
   "outputs": [
    {
     "name": "stdout",
     "output_type": "stream",
     "text": [
      "All days in two months ['1985-02-01' '1985-02-02' '1985-02-03' '1985-02-04' '1985-02-05'\n",
      " '1985-02-06' '1985-02-07' '1985-02-08' '1985-02-09' '1985-02-10'\n",
      " '1985-02-11' '1985-02-12' '1985-02-13' '1985-02-14' '1985-02-15'\n",
      " '1985-02-16' '1985-02-17' '1985-02-18' '1985-02-19' '1985-02-20'\n",
      " '1985-02-21' '1985-02-22' '1985-02-23' '1985-02-24' '1985-02-25'\n",
      " '1985-02-26' '1985-02-27' '1985-02-28' '1985-03-01' '1985-03-02'\n",
      " '1985-03-03' '1985-03-04' '1985-03-05' '1985-03-06' '1985-03-07'\n",
      " '1985-03-08' '1985-03-09' '1985-03-10' '1985-03-11' '1985-03-12'\n",
      " '1985-03-13' '1985-03-14' '1985-03-15' '1985-03-16' '1985-03-17'\n",
      " '1985-03-18' '1985-03-19' '1985-03-20' '1985-03-21' '1985-03-22'\n",
      " '1985-03-23' '1985-03-24' '1985-03-25' '1985-03-26' '1985-03-27'\n",
      " '1985-03-28' '1985-03-29' '1985-03-30' '1985-03-31']\n"
     ]
    }
   ],
   "source": [
    "daysInTwoMonths = np.arange('1985-02', '1985-04', dtype='datetime64[D]')\n",
    "\n",
    "print('All days in two months', daysInTwoMonths)"
   ]
  },
  {
   "cell_type": "markdown",
   "id": "280d61da",
   "metadata": {},
   "source": [
    "Question: Does NumPy treat \"February' properly?"
   ]
  },
  {
   "cell_type": "markdown",
   "id": "ba09acd7",
   "metadata": {},
   "source": [
    "In the short overview of NumPy above we have seen that it made two fundamental improvements over the more basic ways to access date and time information in python:\n",
    "  - First it allowed handling larger arrays\n",
    "  - Second it made the date and time arrays computable, just like the other objects in NumPy"
   ]
  },
  {
   "cell_type": "markdown",
   "id": "81bb7d11",
   "metadata": {},
   "source": [
    "---\n",
    "## Pandas Time Series\n",
    "\n",
    "As discussed in previous tutorials, Pandas was developed to handle data from investment banking. A key aspect of the data types that investment banking have to deal with is time series; data tht varies across actual time (seconds, minutes, hours, days, weeks, months and years).\n",
    "\n",
    "Because of this, Pandas comes with abundant functionality to deal with time series, time events and computations. The Pandas time series functionality leverages what we have alredy discussed about the library *indexes*, *series* and *data frames* and builts on top of python's own time functions."
   ]
  },
  {
   "cell_type": "markdown",
   "id": "27b2272d",
   "metadata": {},
   "source": [
    "Whereas Python allows accessing fundamental time and date information from the operative system and NumPy turns the time and date objects into computable data, Pandas improves this functionality to build full-time series tables and objects."
   ]
  },
  {
   "cell_type": "markdown",
   "id": "b8ba4e79",
   "metadata": {},
   "source": [
    "Pandas consolidated functionality from the basic python libraries as well as NumPy (as well as scikits.timeseries). In doing so, Pandas has also created new functionality for manipulating time series data. Pandas Organizes and provides a cohesive interface to call NumPy and Python core time functions."
   ]
  },
  {
   "cell_type": "markdown",
   "id": "19511a60",
   "metadata": {},
   "source": [
    "---\n",
    "\n",
    "Pandas builds upon the following objects:\n",
    "  - Python's `datetime` (as well as `dateutil`)\n",
    "  - NumPy's `datetime64`\n",
    "  - Pandas'\n",
    "    - `Timestamp`\n",
    "    - `DatetimeIndex`\n",
    "    - `Series`\n",
    "    - `DataFrame`\n",
    "\n",
    "---\n",
    "\n",
    "Hereafer, we will dig into a few of the features pandas has to offer!"
   ]
  },
  {
   "cell_type": "markdown",
   "id": "971ed11b",
   "metadata": {},
   "source": [
    "### Pandas basic time an date objects\n",
    "\n",
    "The fundamental objects dealing with time series in Pandas is `Timestamp`. The object can be created from heterogeneous input data formats, that are more user friendly. \n",
    "\n",
    "This means that the same Timestamp can be created from differently formatted inputs. Pandas' will interpret the different formatting and map them to appropriate datetime objects (with some limits of course):"
   ]
  },
  {
   "cell_type": "code",
   "execution_count": 13,
   "id": "74882f6f",
   "metadata": {},
   "outputs": [],
   "source": [
    "import pandas as pd\n",
    "import numpy as np"
   ]
  },
  {
   "cell_type": "code",
   "execution_count": 38,
   "id": "15463362",
   "metadata": {},
   "outputs": [
    {
     "name": "stdout",
     "output_type": "stream",
     "text": [
      "Output from \"15th of November, 1985\" 1985-11-15 00:00:00\n"
     ]
    }
   ],
   "source": [
    "date = pd.to_datetime(\"15th of November, 1985\")\n",
    "date\n",
    "print('Output from \"15th of November, 1985\"', date)"
   ]
  },
  {
   "cell_type": "code",
   "execution_count": 35,
   "id": "ef0891ac",
   "metadata": {},
   "outputs": [
    {
     "name": "stdout",
     "output_type": "stream",
     "text": [
      "Output from \"November 15, 2015\"      1985-11-15 00:00:00\n"
     ]
    }
   ],
   "source": [
    "date = pd.to_datetime(\"November 15, 1985\")\n",
    "print('Output from \"November 15, 2015\"     ', date)"
   ]
  },
  {
   "cell_type": "markdown",
   "id": "44376877",
   "metadata": {},
   "source": [
    "Another example of the flexibility of Pandas' interpretation of inputs:"
   ]
  },
  {
   "cell_type": "code",
   "execution_count": 15,
   "id": "f276708e",
   "metadata": {},
   "outputs": [
    {
     "data": {
      "text/plain": [
       "DatetimeIndex(['1985-11-15', '1985-11-14', '1985-11-15', '1985-07-11',\n",
       "               '1985-11-08'],\n",
       "              dtype='datetime64[ns]', freq=None)"
      ]
     },
     "execution_count": 15,
     "metadata": {},
     "output_type": "execute_result"
    }
   ],
   "source": [
    "date = pd.to_datetime([datetime(1985, 11, 15), '14th of November, 1985',\n",
    "                       '1985-Nov-15', '07-11-1985', '19851108'])\n",
    "date"
   ]
  },
  {
   "cell_type": "markdown",
   "id": "6d951d6d",
   "metadata": {},
   "source": [
    "All above diverse formats have been interpreted correctly.  Instead, the following odd formatting will fail, because Pandas will not be prepared to parse it:"
   ]
  },
  {
   "cell_type": "code",
   "execution_count": null,
   "id": "f4e68196",
   "metadata": {},
   "outputs": [],
   "source": [
    "date1 = pd.to_datetime(\"November 15 : 1985\")\n",
    "print('Output from \"November 15 : 1985\"     ', date1)"
   ]
  },
  {
   "cell_type": "markdown",
   "id": "7609f117",
   "metadata": {},
   "source": [
    "`.to_datetime` is the method to take an input, interpret it and map it to the appropriate time and date (`Timestamp` in Pandas)."
   ]
  },
  {
   "cell_type": "markdown",
   "id": "dacf6260",
   "metadata": {},
   "source": [
    "---\n",
    "\n",
    "The `Timestamp` object is elevated in pandas into the `DatetimeIndex` object. The DatetimeIndex allows array-style operations, similar to those allowed by NumPay. \n",
    "\n",
    "For example, we can show 20 days starting on November 15 1985: "
   ]
  },
  {
   "cell_type": "code",
   "execution_count": 50,
   "id": "17c00db8",
   "metadata": {},
   "outputs": [
    {
     "data": {
      "text/plain": [
       "DatetimeIndex(['1985-11-15', '1985-11-16', '1985-11-17', '1985-11-18',\n",
       "               '1985-11-19', '1985-11-20', '1985-11-21', '1985-11-22',\n",
       "               '1985-11-23', '1985-11-24', '1985-11-25', '1985-11-26',\n",
       "               '1985-11-27', '1985-11-28', '1985-11-29', '1985-11-30',\n",
       "               '1985-12-01', '1985-12-02', '1985-12-03', '1985-12-04'],\n",
       "              dtype='datetime64[ns]', freq=None)"
      ]
     },
     "execution_count": 50,
     "metadata": {},
     "output_type": "execute_result"
    }
   ],
   "source": [
    "date + pd.to_timedelta(np.arange(20), 'D')"
   ]
  },
  {
   "cell_type": "markdown",
   "id": "06cb4186",
   "metadata": {},
   "source": [
    "Note how the `Timestamp` object `date` was changed into a `DatetimeIndex` by the above operation."
   ]
  },
  {
   "cell_type": "markdown",
   "id": "26d5d921",
   "metadata": {},
   "source": [
    "An operation similar to the above can also be implemented by accessing directly Pandas' functionality to manipulate dates. This is another way to create a range starting from a secific year-month-day:"
   ]
  },
  {
   "cell_type": "code",
   "execution_count": 18,
   "id": "53015685",
   "metadata": {},
   "outputs": [
    {
     "data": {
      "text/plain": [
       "DatetimeIndex(['1985-11-15', '1985-11-16', '1985-11-17', '1985-11-18',\n",
       "               '1985-11-19', '1985-11-20', '1985-11-21', '1985-11-22',\n",
       "               '1985-11-23', '1985-11-24', '1985-11-25', '1985-11-26',\n",
       "               '1985-11-27', '1985-11-28', '1985-11-29', '1985-11-30',\n",
       "               '1985-12-01', '1985-12-02', '1985-12-03', '1985-12-04'],\n",
       "              dtype='datetime64[ns]', freq='D')"
      ]
     },
     "execution_count": 18,
     "metadata": {},
     "output_type": "execute_result"
    }
   ],
   "source": [
    "dates = pd.date_range(\"19851115\", periods=20, freq='D')\n",
    "dates"
   ]
  },
  {
   "cell_type": "markdown",
   "id": "479d9ba0",
   "metadata": {},
   "source": [
    "A simple change allows performing the same operation across months:"
   ]
  },
  {
   "cell_type": "code",
   "execution_count": 52,
   "id": "56d20aeb",
   "metadata": {},
   "outputs": [
    {
     "data": {
      "text/plain": [
       "DatetimeIndex(['1985-11-30', '1985-12-31', '1986-01-31', '1986-02-28',\n",
       "               '1986-03-31', '1986-04-30', '1986-05-31', '1986-06-30',\n",
       "               '1986-07-31', '1986-08-31', '1986-09-30', '1986-10-31',\n",
       "               '1986-11-30', '1986-12-31', '1987-01-31', '1987-02-28',\n",
       "               '1987-03-31', '1987-04-30', '1987-05-31', '1987-06-30'],\n",
       "              dtype='datetime64[ns]', freq='M')"
      ]
     },
     "execution_count": 52,
     "metadata": {},
     "output_type": "execute_result"
    }
   ],
   "source": [
    "dates = pd.date_range(\"19851115\", periods=20, freq='M')\n",
    "dates"
   ]
  },
  {
   "cell_type": "code",
   "execution_count": 51,
   "id": "f8dca9cd",
   "metadata": {},
   "outputs": [],
   "source": [
    "df = pd.DataFrame(np.random.randn(np.squeeze(dates.shape), 4), \n",
    "                  index=dates, \n",
    "                  columns={\"Peace\", \"Love\", \"knowledge\", \"Compassion\"})"
   ]
  },
  {
   "cell_type": "code",
   "execution_count": 53,
   "id": "07184acb",
   "metadata": {},
   "outputs": [
    {
     "data": {
      "text/html": [
       "<div>\n",
       "<style scoped>\n",
       "    .dataframe tbody tr th:only-of-type {\n",
       "        vertical-align: middle;\n",
       "    }\n",
       "\n",
       "    .dataframe tbody tr th {\n",
       "        vertical-align: top;\n",
       "    }\n",
       "\n",
       "    .dataframe thead th {\n",
       "        text-align: right;\n",
       "    }\n",
       "</style>\n",
       "<table border=\"1\" class=\"dataframe\">\n",
       "  <thead>\n",
       "    <tr style=\"text-align: right;\">\n",
       "      <th></th>\n",
       "      <th>Peace</th>\n",
       "      <th>Love</th>\n",
       "      <th>Compassion</th>\n",
       "      <th>knowledge</th>\n",
       "    </tr>\n",
       "  </thead>\n",
       "  <tbody>\n",
       "    <tr>\n",
       "      <th>1985-05-31</th>\n",
       "      <td>-0.387342</td>\n",
       "      <td>0.736032</td>\n",
       "      <td>0.624132</td>\n",
       "      <td>0.486543</td>\n",
       "    </tr>\n",
       "    <tr>\n",
       "      <th>1985-06-30</th>\n",
       "      <td>-0.609694</td>\n",
       "      <td>-1.424266</td>\n",
       "      <td>-0.006967</td>\n",
       "      <td>0.278257</td>\n",
       "    </tr>\n",
       "    <tr>\n",
       "      <th>1985-07-31</th>\n",
       "      <td>-0.737019</td>\n",
       "      <td>0.335978</td>\n",
       "      <td>1.179989</td>\n",
       "      <td>-1.645962</td>\n",
       "    </tr>\n",
       "    <tr>\n",
       "      <th>1985-08-31</th>\n",
       "      <td>1.164761</td>\n",
       "      <td>0.519512</td>\n",
       "      <td>1.095464</td>\n",
       "      <td>0.370375</td>\n",
       "    </tr>\n",
       "    <tr>\n",
       "      <th>1985-09-30</th>\n",
       "      <td>-1.647795</td>\n",
       "      <td>-0.400257</td>\n",
       "      <td>-0.633013</td>\n",
       "      <td>-1.726204</td>\n",
       "    </tr>\n",
       "    <tr>\n",
       "      <th>1985-10-31</th>\n",
       "      <td>-0.243691</td>\n",
       "      <td>-0.171008</td>\n",
       "      <td>-1.624409</td>\n",
       "      <td>-0.207988</td>\n",
       "    </tr>\n",
       "    <tr>\n",
       "      <th>1985-11-30</th>\n",
       "      <td>-0.887129</td>\n",
       "      <td>0.352114</td>\n",
       "      <td>-0.075896</td>\n",
       "      <td>1.498577</td>\n",
       "    </tr>\n",
       "    <tr>\n",
       "      <th>1985-12-31</th>\n",
       "      <td>-0.187975</td>\n",
       "      <td>-1.876881</td>\n",
       "      <td>-1.310461</td>\n",
       "      <td>0.359762</td>\n",
       "    </tr>\n",
       "    <tr>\n",
       "      <th>1986-01-31</th>\n",
       "      <td>-1.153971</td>\n",
       "      <td>-0.634765</td>\n",
       "      <td>-0.417391</td>\n",
       "      <td>-0.443781</td>\n",
       "    </tr>\n",
       "    <tr>\n",
       "      <th>1986-02-28</th>\n",
       "      <td>0.165431</td>\n",
       "      <td>-0.884895</td>\n",
       "      <td>1.606142</td>\n",
       "      <td>-0.069376</td>\n",
       "    </tr>\n",
       "    <tr>\n",
       "      <th>1986-03-31</th>\n",
       "      <td>1.632660</td>\n",
       "      <td>-0.987024</td>\n",
       "      <td>-0.267704</td>\n",
       "      <td>0.372387</td>\n",
       "    </tr>\n",
       "    <tr>\n",
       "      <th>1986-04-30</th>\n",
       "      <td>1.310918</td>\n",
       "      <td>0.628261</td>\n",
       "      <td>-1.162660</td>\n",
       "      <td>1.110663</td>\n",
       "    </tr>\n",
       "    <tr>\n",
       "      <th>1986-05-31</th>\n",
       "      <td>-0.413805</td>\n",
       "      <td>-0.904742</td>\n",
       "      <td>1.094616</td>\n",
       "      <td>0.067482</td>\n",
       "    </tr>\n",
       "    <tr>\n",
       "      <th>1986-06-30</th>\n",
       "      <td>-0.671829</td>\n",
       "      <td>0.446504</td>\n",
       "      <td>-0.009266</td>\n",
       "      <td>-1.562450</td>\n",
       "    </tr>\n",
       "  </tbody>\n",
       "</table>\n",
       "</div>"
      ],
      "text/plain": [
       "               Peace      Love  Compassion  knowledge\n",
       "1985-05-31 -0.387342  0.736032    0.624132   0.486543\n",
       "1985-06-30 -0.609694 -1.424266   -0.006967   0.278257\n",
       "1985-07-31 -0.737019  0.335978    1.179989  -1.645962\n",
       "1985-08-31  1.164761  0.519512    1.095464   0.370375\n",
       "1985-09-30 -1.647795 -0.400257   -0.633013  -1.726204\n",
       "1985-10-31 -0.243691 -0.171008   -1.624409  -0.207988\n",
       "1985-11-30 -0.887129  0.352114   -0.075896   1.498577\n",
       "1985-12-31 -0.187975 -1.876881   -1.310461   0.359762\n",
       "1986-01-31 -1.153971 -0.634765   -0.417391  -0.443781\n",
       "1986-02-28  0.165431 -0.884895    1.606142  -0.069376\n",
       "1986-03-31  1.632660 -0.987024   -0.267704   0.372387\n",
       "1986-04-30  1.310918  0.628261   -1.162660   1.110663\n",
       "1986-05-31 -0.413805 -0.904742    1.094616   0.067482\n",
       "1986-06-30 -0.671829  0.446504   -0.009266  -1.562450"
      ]
     },
     "execution_count": 53,
     "metadata": {},
     "output_type": "execute_result"
    }
   ],
   "source": [
    "df"
   ]
  },
  {
   "cell_type": "markdown",
   "id": "145cddd0",
   "metadata": {},
   "source": [
    "---\n",
    "\n",
    "### Manipulating Pandas' Time Series"
   ]
  },
  {
   "cell_type": "markdown",
   "id": "3176524a",
   "metadata": {},
   "source": [
    "We have learned before that Pandas Series and DataFrame objects allow sotring data and are indexed. Indices become extremely helpful when we start dealing with Time Series."
   ]
  },
  {
   "cell_type": "markdown",
   "id": "5ac90ccf",
   "metadata": {},
   "source": [
    "---\n",
    "\n",
    "For example we can initialize a Pandas `index` object by using a Pandas `DatetimeIndex` object. The latter can be the used to label a series. Let's take a look.\n",
    "\n",
    "We will first create a range of dates and use them as indeces to a Series:"
   ]
  },
  {
   "cell_type": "code",
   "execution_count": 54,
   "id": "38834478",
   "metadata": {},
   "outputs": [
    {
     "data": {
      "text/plain": [
       "1985-12-31    0\n",
       "1986-12-31    1\n",
       "1987-12-31    2\n",
       "1988-12-31    3\n",
       "1989-12-31    4\n",
       "1990-12-31    5\n",
       "Freq: A-DEC, dtype: int64"
      ]
     },
     "execution_count": 54,
     "metadata": {},
     "output_type": "execute_result"
    }
   ],
   "source": [
    "index   = pd.date_range(\"19851115\", periods=6, freq='Y')\n",
    "data    = [0, 1, 2, 3, 4, 5]\n",
    "\n",
    "dseries = pd.Series(data, index=index)\n",
    "dseries"
   ]
  },
  {
   "cell_type": "markdown",
   "id": "4ae70821",
   "metadata": {},
   "source": [
    "The above dseries is a Padas Series object with a frequency in years ('Y', aligned to december). The labels (or indices) are dates and the data are just numbers between 0 and 5.\n",
    "\n",
    "Just like any label or index we can use the data indices to address the Pandas Series. For example, we can find the a subset of four entries:"
   ]
  },
  {
   "cell_type": "code",
   "execution_count": 55,
   "id": "6d2c15eb",
   "metadata": {},
   "outputs": [
    {
     "data": {
      "text/plain": [
       "1986-12-31    1\n",
       "1987-12-31    2\n",
       "1988-12-31    3\n",
       "1989-12-31    4\n",
       "Freq: A-DEC, dtype: int64"
      ]
     },
     "execution_count": 55,
     "metadata": {},
     "output_type": "execute_result"
    }
   ],
   "source": [
    "dseries['1986-12-31':'1989-12-31']"
   ]
  },
  {
   "cell_type": "markdown",
   "id": "32fcefc1",
   "metadata": {},
   "source": [
    "Also Pandas allows indexing Series by leading trails of the labels. For example, the year can be used as index – without need to specify the rest of the date:"
   ]
  },
  {
   "cell_type": "code",
   "execution_count": 26,
   "id": "c99e81c4",
   "metadata": {},
   "outputs": [
    {
     "data": {
      "text/plain": [
       "1985-12-31    0\n",
       "Freq: A-DEC, dtype: int64"
      ]
     },
     "execution_count": 26,
     "metadata": {},
     "output_type": "execute_result"
    }
   ],
   "source": [
    "dseries['1985']"
   ]
  },
  {
   "cell_type": "markdown",
   "id": "e6fc4ecc",
   "metadata": {},
   "source": [
    "This operation would have worked also if the dates had been different (not all matching December 31).\n",
    "\n",
    "---"
   ]
  },
  {
   "cell_type": "markdown",
   "id": "98ae9f92",
   "metadata": {},
   "source": [
    "In sum, in this tutorial we have provided an overview of some of the functionality that Python, NumPy and Pandas offer to manipulate time series, and date, time objects. Tutorial with more advanced functionality for manipulating and platting time series."
   ]
  },
  {
   "cell_type": "markdown",
   "id": "13ee9756",
   "metadata": {},
   "source": [
    "---\n",
    "\n",
    "**Exercise:**\n",
    "\n",
    "Create a Pandas DataFrame (hah!) that uses dates as indices and stores data about three variables: 1. Mental health. 2. Quality of life. and 3. Heart rate. The measurements were taken in a single subject between May 19, 1985 and June 16, 1995 at a monthly rate. "
   ]
  },
  {
   "cell_type": "code",
   "execution_count": 87,
   "id": "436656e1",
   "metadata": {},
   "outputs": [
    {
     "data": {
      "text/plain": [
       "DatetimeIndex(['1985-05-19', '1985-06-16', '1985-07-14', '1985-08-11',\n",
       "               '1985-09-08', '1985-10-06', '1985-11-03', '1985-12-01',\n",
       "               '1985-12-29', '1986-01-26',\n",
       "               ...\n",
       "               '1994-09-25', '1994-10-23', '1994-11-20', '1994-12-18',\n",
       "               '1995-01-15', '1995-02-12', '1995-03-12', '1995-04-09',\n",
       "               '1995-05-07', '1995-06-04'],\n",
       "              dtype='datetime64[ns]', length=132, freq=None)"
      ]
     },
     "execution_count": 87,
     "metadata": {},
     "output_type": "execute_result"
    }
   ],
   "source": [
    "index = np.arange('1985-05-19','1995-06-16',28,dtype='datetime64[D]')\n",
    "index1 = pd.to_datetime(index)\n",
    "index1"
   ]
  },
  {
   "cell_type": "code",
   "execution_count": 68,
   "id": "8533dabc",
   "metadata": {},
   "outputs": [
    {
     "data": {
      "text/plain": [
       "DatetimeIndex(['1985-05-31', '1985-06-30', '1985-07-31', '1985-08-31',\n",
       "               '1985-09-30', '1985-10-31', '1985-11-30', '1985-12-31',\n",
       "               '1986-01-31', '1986-02-28', '1986-03-31', '1986-04-30',\n",
       "               '1986-05-31', '1986-06-30'],\n",
       "              dtype='datetime64[ns]', freq='M')"
      ]
     },
     "execution_count": 68,
     "metadata": {},
     "output_type": "execute_result"
    }
   ],
   "source": [
    "dates = pd.date_range(\"19850519\", periods=14, freq='M')\n",
    "dates"
   ]
  },
  {
   "cell_type": "code",
   "execution_count": 94,
   "id": "0dab08fd",
   "metadata": {},
   "outputs": [],
   "source": [
    "dict = {'Mental Health':15 + 3*np.random.randn(np.squeeze(index1.shape)), \n",
    "        'Quality of Life':15 + 3*np.random.randn(np.squeeze(index1.shape)), \n",
    "        'Heart Rate':80 + 15*np.random.randn(np.squeeze(index1.shape))}"
   ]
  },
  {
   "cell_type": "code",
   "execution_count": 95,
   "id": "0f94dbe1",
   "metadata": {},
   "outputs": [],
   "source": [
    "df = pd.DataFrame(dict,\n",
    "                  index=index1, \n",
    "                  columns={\"Mental Health\", \"Quality of Life\", \"Heart Rate\"})"
   ]
  },
  {
   "cell_type": "code",
   "execution_count": 96,
   "id": "97c4d313",
   "metadata": {},
   "outputs": [
    {
     "data": {
      "text/html": [
       "<div>\n",
       "<style scoped>\n",
       "    .dataframe tbody tr th:only-of-type {\n",
       "        vertical-align: middle;\n",
       "    }\n",
       "\n",
       "    .dataframe tbody tr th {\n",
       "        vertical-align: top;\n",
       "    }\n",
       "\n",
       "    .dataframe thead th {\n",
       "        text-align: right;\n",
       "    }\n",
       "</style>\n",
       "<table border=\"1\" class=\"dataframe\">\n",
       "  <thead>\n",
       "    <tr style=\"text-align: right;\">\n",
       "      <th></th>\n",
       "      <th>Quality of Life</th>\n",
       "      <th>Mental Health</th>\n",
       "      <th>Heart Rate</th>\n",
       "    </tr>\n",
       "  </thead>\n",
       "  <tbody>\n",
       "    <tr>\n",
       "      <th>1985-05-19</th>\n",
       "      <td>16.548393</td>\n",
       "      <td>16.231274</td>\n",
       "      <td>70.080825</td>\n",
       "    </tr>\n",
       "    <tr>\n",
       "      <th>1985-06-16</th>\n",
       "      <td>14.437546</td>\n",
       "      <td>17.594276</td>\n",
       "      <td>66.014175</td>\n",
       "    </tr>\n",
       "    <tr>\n",
       "      <th>1985-07-14</th>\n",
       "      <td>9.818825</td>\n",
       "      <td>16.260022</td>\n",
       "      <td>86.861568</td>\n",
       "    </tr>\n",
       "    <tr>\n",
       "      <th>1985-08-11</th>\n",
       "      <td>18.448784</td>\n",
       "      <td>15.056813</td>\n",
       "      <td>86.751560</td>\n",
       "    </tr>\n",
       "    <tr>\n",
       "      <th>1985-09-08</th>\n",
       "      <td>11.873573</td>\n",
       "      <td>16.739049</td>\n",
       "      <td>79.057727</td>\n",
       "    </tr>\n",
       "    <tr>\n",
       "      <th>...</th>\n",
       "      <td>...</td>\n",
       "      <td>...</td>\n",
       "      <td>...</td>\n",
       "    </tr>\n",
       "    <tr>\n",
       "      <th>1995-02-12</th>\n",
       "      <td>13.233624</td>\n",
       "      <td>16.616256</td>\n",
       "      <td>103.864356</td>\n",
       "    </tr>\n",
       "    <tr>\n",
       "      <th>1995-03-12</th>\n",
       "      <td>12.828880</td>\n",
       "      <td>7.163043</td>\n",
       "      <td>77.747674</td>\n",
       "    </tr>\n",
       "    <tr>\n",
       "      <th>1995-04-09</th>\n",
       "      <td>13.937624</td>\n",
       "      <td>16.629111</td>\n",
       "      <td>79.014867</td>\n",
       "    </tr>\n",
       "    <tr>\n",
       "      <th>1995-05-07</th>\n",
       "      <td>11.565617</td>\n",
       "      <td>13.520712</td>\n",
       "      <td>89.339811</td>\n",
       "    </tr>\n",
       "    <tr>\n",
       "      <th>1995-06-04</th>\n",
       "      <td>15.678147</td>\n",
       "      <td>14.531817</td>\n",
       "      <td>81.243247</td>\n",
       "    </tr>\n",
       "  </tbody>\n",
       "</table>\n",
       "<p>132 rows × 3 columns</p>\n",
       "</div>"
      ],
      "text/plain": [
       "            Quality of Life  Mental Health  Heart Rate\n",
       "1985-05-19        16.548393      16.231274   70.080825\n",
       "1985-06-16        14.437546      17.594276   66.014175\n",
       "1985-07-14         9.818825      16.260022   86.861568\n",
       "1985-08-11        18.448784      15.056813   86.751560\n",
       "1985-09-08        11.873573      16.739049   79.057727\n",
       "...                     ...            ...         ...\n",
       "1995-02-12        13.233624      16.616256  103.864356\n",
       "1995-03-12        12.828880       7.163043   77.747674\n",
       "1995-04-09        13.937624      16.629111   79.014867\n",
       "1995-05-07        11.565617      13.520712   89.339811\n",
       "1995-06-04        15.678147      14.531817   81.243247\n",
       "\n",
       "[132 rows x 3 columns]"
      ]
     },
     "execution_count": 96,
     "metadata": {},
     "output_type": "execute_result"
    }
   ],
   "source": [
    "df"
   ]
  }
 ],
 "metadata": {
  "kernelspec": {
   "display_name": "Python 3 (ipykernel)",
   "language": "python",
   "name": "python3"
  },
  "language_info": {
   "codemirror_mode": {
    "name": "ipython",
    "version": 3
   },
   "file_extension": ".py",
   "mimetype": "text/x-python",
   "name": "python",
   "nbconvert_exporter": "python",
   "pygments_lexer": "ipython3",
   "version": "3.9.7"
  }
 },
 "nbformat": 4,
 "nbformat_minor": 5
}
